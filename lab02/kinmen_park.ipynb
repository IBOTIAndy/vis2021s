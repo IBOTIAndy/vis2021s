{
 "cells": [
  {
   "cell_type": "code",
   "execution_count": 99,
   "metadata": {},
   "outputs": [],
   "source": [
    "import pandas as pd"
   ]
  },
  {
   "cell_type": "code",
   "execution_count": 100,
   "metadata": {},
   "outputs": [
    {
     "data": {
      "text/html": [
       "<div>\n",
       "<style scoped>\n",
       "    .dataframe tbody tr th:only-of-type {\n",
       "        vertical-align: middle;\n",
       "    }\n",
       "\n",
       "    .dataframe tbody tr th {\n",
       "        vertical-align: top;\n",
       "    }\n",
       "\n",
       "    .dataframe thead th {\n",
       "        text-align: right;\n",
       "    }\n",
       "</style>\n",
       "<table border=\"1\" class=\"dataframe\">\n",
       "  <thead>\n",
       "    <tr style=\"text-align: right;\">\n",
       "      <th></th>\n",
       "      <th>序號</th>\n",
       "      <th>公園綠地名稱</th>\n",
       "      <th>鄉鎮市</th>\n",
       "      <th>公園座落位置</th>\n",
       "      <th>場所禁菸規定</th>\n",
       "      <th>吸菸區個數</th>\n",
       "    </tr>\n",
       "  </thead>\n",
       "  <tbody>\n",
       "    <tr>\n",
       "      <th>0</th>\n",
       "      <td>1.0</td>\n",
       "      <td>新市公園</td>\n",
       "      <td>金湖鎮</td>\n",
       "      <td>金門醫院舊院區對面</td>\n",
       "      <td>全面禁菸</td>\n",
       "      <td>0.0</td>\n",
       "    </tr>\n",
       "    <tr>\n",
       "      <th>1</th>\n",
       "      <td>2.0</td>\n",
       "      <td>中正公園\\n(含老人會)</td>\n",
       "      <td>金湖鎮</td>\n",
       "      <td>太湖路三段</td>\n",
       "      <td>除吸菸區外全面禁菸</td>\n",
       "      <td>2.0</td>\n",
       "    </tr>\n",
       "    <tr>\n",
       "      <th>2</th>\n",
       "      <td>3.0</td>\n",
       "      <td>赤後山公園</td>\n",
       "      <td>金湖鎮</td>\n",
       "      <td>塔后</td>\n",
       "      <td>全面禁菸</td>\n",
       "      <td>0.0</td>\n",
       "    </tr>\n",
       "    <tr>\n",
       "      <th>3</th>\n",
       "      <td>4.0</td>\n",
       "      <td>金湯公園</td>\n",
       "      <td>金湖鎮</td>\n",
       "      <td>陳景蘭洋樓下方處</td>\n",
       "      <td>除吸菸區外全面禁菸</td>\n",
       "      <td>1.0</td>\n",
       "    </tr>\n",
       "    <tr>\n",
       "      <th>4</th>\n",
       "      <td>5.0</td>\n",
       "      <td>料羅海濱公園</td>\n",
       "      <td>金湖鎮</td>\n",
       "      <td>料羅段海濱</td>\n",
       "      <td>除吸菸區外全面禁菸</td>\n",
       "      <td>2.0</td>\n",
       "    </tr>\n",
       "  </tbody>\n",
       "</table>\n",
       "</div>"
      ],
      "text/plain": [
       "    序號        公園綠地名稱  鄉鎮市     公園座落位置     場所禁菸規定  吸菸區個數\n",
       "0  1.0          新市公園  金湖鎮  金門醫院舊院區對面       全面禁菸    0.0\n",
       "1  2.0  中正公園\\n(含老人會)  金湖鎮      太湖路三段  除吸菸區外全面禁菸    2.0\n",
       "2  3.0         赤後山公園  金湖鎮         塔后       全面禁菸    0.0\n",
       "3  4.0          金湯公園  金湖鎮   陳景蘭洋樓下方處  除吸菸區外全面禁菸    1.0\n",
       "4  5.0        料羅海濱公園  金湖鎮      料羅段海濱  除吸菸區外全面禁菸    2.0"
      ]
     },
     "execution_count": 100,
     "metadata": {},
     "output_type": "execute_result"
    }
   ],
   "source": [
    "path = \"./kinmen_nosmoke_park.csv\"\n",
    "#讀取csv檔案\n",
    "temp = pd.read_csv(path)\n",
    "temp.head()"
   ]
  },
  {
   "cell_type": "code",
   "execution_count": 101,
   "metadata": {},
   "outputs": [
    {
     "data": {
      "text/html": [
       "<div>\n",
       "<style scoped>\n",
       "    .dataframe tbody tr th:only-of-type {\n",
       "        vertical-align: middle;\n",
       "    }\n",
       "\n",
       "    .dataframe tbody tr th {\n",
       "        vertical-align: top;\n",
       "    }\n",
       "\n",
       "    .dataframe thead th {\n",
       "        text-align: right;\n",
       "    }\n",
       "</style>\n",
       "<table border=\"1\" class=\"dataframe\">\n",
       "  <thead>\n",
       "    <tr style=\"text-align: right;\">\n",
       "      <th></th>\n",
       "      <th>鄉鎮市</th>\n",
       "      <th>場所禁菸規定</th>\n",
       "    </tr>\n",
       "  </thead>\n",
       "  <tbody>\n",
       "    <tr>\n",
       "      <th>0</th>\n",
       "      <td>金湖鎮</td>\n",
       "      <td>全面禁菸</td>\n",
       "    </tr>\n",
       "    <tr>\n",
       "      <th>1</th>\n",
       "      <td>金湖鎮</td>\n",
       "      <td>除吸菸區外全面禁菸</td>\n",
       "    </tr>\n",
       "    <tr>\n",
       "      <th>2</th>\n",
       "      <td>金湖鎮</td>\n",
       "      <td>全面禁菸</td>\n",
       "    </tr>\n",
       "    <tr>\n",
       "      <th>3</th>\n",
       "      <td>金湖鎮</td>\n",
       "      <td>除吸菸區外全面禁菸</td>\n",
       "    </tr>\n",
       "    <tr>\n",
       "      <th>4</th>\n",
       "      <td>金湖鎮</td>\n",
       "      <td>除吸菸區外全面禁菸</td>\n",
       "    </tr>\n",
       "  </tbody>\n",
       "</table>\n",
       "</div>"
      ],
      "text/plain": [
       "   鄉鎮市     場所禁菸規定\n",
       "0  金湖鎮       全面禁菸\n",
       "1  金湖鎮  除吸菸區外全面禁菸\n",
       "2  金湖鎮       全面禁菸\n",
       "3  金湖鎮  除吸菸區外全面禁菸\n",
       "4  金湖鎮  除吸菸區外全面禁菸"
      ]
     },
     "execution_count": 101,
     "metadata": {},
     "output_type": "execute_result"
    }
   ],
   "source": [
    "#, 取出想處理的部分(切割)\n",
    "df = temp[[\"鄉鎮市\", \"場所禁菸規定\"]]\n",
    "df.head()"
   ]
  },
  {
   "cell_type": "code",
   "execution_count": 102,
   "metadata": {},
   "outputs": [
    {
     "data": {
      "text/plain": [
       "[{'鄉鎮市': '金湖鎮', '全面禁菸': 7, '除吸菸區外全面禁菸': 4},\n",
       " {'鄉鎮市': '金寧鄉', '全面禁菸': 1, '除吸菸區外全面禁菸': 3},\n",
       " {'鄉鎮市': '金城鎮', '全面禁菸': 3, '除吸菸區外全面禁菸': 4},\n",
       " {'鄉鎮市': '金沙鎮', '全面禁菸': 1, '除吸菸區外全面禁菸': 1},\n",
       " {'鄉鎮市': '烈嶼鄉', '全面禁菸': 5, '除吸菸區外全面禁菸': 2}]"
      ]
     },
     "execution_count": 102,
     "metadata": {},
     "output_type": "execute_result"
    }
   ],
   "source": [
    "table=[]\n",
    "#建立table來儲存\n",
    "#table.append({\"鄉鎮市\":\"a\", \"全面禁菸\":0, \"除吸菸區外全面禁菸\":0})\n",
    "#print(table, type(table))\n",
    "#搜尋dataframe全部資料\n",
    "for index, oneframe in df.iterrows():\n",
    "    #print(oneframe, type(oneframe), \"\\n\")\n",
    "    flag = True #用來判斷該\"鄉鎮市\"記錄了沒\n",
    "    for tlist in table:\n",
    "        #如果該\"鄉鎮市\"已經建立\n",
    "        if(tlist[\"鄉鎮市\"] == oneframe[\"鄉鎮市\"]):\n",
    "            flag = False\n",
    "            #增加數量\n",
    "            tlist[oneframe[\"場所禁菸規定\"]] += 1\n",
    "            #print(\"1\")\n",
    "            break\n",
    "    if(flag): #如果該\"鄉鎮市\"還沒建立\n",
    "        noSmork=0\n",
    "        areaSmork=0\n",
    "        if(oneframe[\"場所禁菸規定\"]==\"全面禁菸\"):\n",
    "            noSmork=1\n",
    "        else:\n",
    "            areaSmork=1        \n",
    "        #建立新的\"鄉鎮市\"並加上該公園的禁菸狀況\n",
    "        table.append({\"鄉鎮市\":oneframe[\"鄉鎮市\"], \"全面禁菸\":noSmork, \"除吸菸區外全面禁菸\":areaSmork})\n",
    "        #print(\"2\")\n",
    "#table.pop(0)\n",
    "table.pop(-1)\n",
    "table"
   ]
  },
  {
   "cell_type": "code",
   "execution_count": 104,
   "metadata": {},
   "outputs": [
    {
     "data": {
      "text/html": [
       "<div>\n",
       "<style scoped>\n",
       "    .dataframe tbody tr th:only-of-type {\n",
       "        vertical-align: middle;\n",
       "    }\n",
       "\n",
       "    .dataframe tbody tr th {\n",
       "        vertical-align: top;\n",
       "    }\n",
       "\n",
       "    .dataframe thead th {\n",
       "        text-align: right;\n",
       "    }\n",
       "</style>\n",
       "<table border=\"1\" class=\"dataframe\">\n",
       "  <thead>\n",
       "    <tr style=\"text-align: right;\">\n",
       "      <th></th>\n",
       "      <th>鄉鎮市</th>\n",
       "      <th>全面禁菸</th>\n",
       "      <th>除吸菸區外全面禁菸</th>\n",
       "    </tr>\n",
       "  </thead>\n",
       "  <tbody>\n",
       "    <tr>\n",
       "      <th>0</th>\n",
       "      <td>金湖鎮</td>\n",
       "      <td>7</td>\n",
       "      <td>4</td>\n",
       "    </tr>\n",
       "    <tr>\n",
       "      <th>1</th>\n",
       "      <td>金寧鄉</td>\n",
       "      <td>1</td>\n",
       "      <td>3</td>\n",
       "    </tr>\n",
       "    <tr>\n",
       "      <th>2</th>\n",
       "      <td>金城鎮</td>\n",
       "      <td>3</td>\n",
       "      <td>4</td>\n",
       "    </tr>\n",
       "    <tr>\n",
       "      <th>3</th>\n",
       "      <td>金沙鎮</td>\n",
       "      <td>1</td>\n",
       "      <td>1</td>\n",
       "    </tr>\n",
       "    <tr>\n",
       "      <th>4</th>\n",
       "      <td>烈嶼鄉</td>\n",
       "      <td>5</td>\n",
       "      <td>2</td>\n",
       "    </tr>\n",
       "  </tbody>\n",
       "</table>\n",
       "</div>"
      ],
      "text/plain": [
       "   鄉鎮市  全面禁菸  除吸菸區外全面禁菸\n",
       "0  金湖鎮     7          4\n",
       "1  金寧鄉     1          3\n",
       "2  金城鎮     3          4\n",
       "3  金沙鎮     1          1\n",
       "4  烈嶼鄉     5          2"
      ]
     },
     "execution_count": 104,
     "metadata": {},
     "output_type": "execute_result"
    }
   ],
   "source": [
    "#將dict轉換成pandas的data frame\n",
    "end_table = pd.DataFrame(data=table)\n",
    "#發現col的排列不是預期的樣子 重新排列\n",
    "end_table = end_table[[\"鄉鎮市\", \"全面禁菸\", \"除吸菸區外全面禁菸\"]]\n",
    "#end_table.reset_index(drop=True)\n",
    "#存為end_park.csv (編碼為 UTF-8，且去除index)\n",
    "end_table.to_csv(\"end_park.csv\", encoding=\"utf-8\", index=None)\n",
    "end_table"
   ]
  },
  {
   "cell_type": "code",
   "execution_count": null,
   "metadata": {},
   "outputs": [],
   "source": []
  }
 ],
 "metadata": {
  "kernelspec": {
   "display_name": "Python 3",
   "language": "python",
   "name": "python3"
  },
  "language_info": {
   "codemirror_mode": {
    "name": "ipython",
    "version": 3
   },
   "file_extension": ".py",
   "mimetype": "text/x-python",
   "name": "python",
   "nbconvert_exporter": "python",
   "pygments_lexer": "ipython3",
   "version": "3.6.5"
  }
 },
 "nbformat": 4,
 "nbformat_minor": 2
}
